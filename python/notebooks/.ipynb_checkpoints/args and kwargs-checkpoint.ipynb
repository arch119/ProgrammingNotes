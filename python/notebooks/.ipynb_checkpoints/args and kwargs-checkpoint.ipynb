{
 "cells": [
  {
   "cell_type": "code",
   "execution_count": 3,
   "metadata": {},
   "outputs": [
    {
     "name": "stdout",
     "output_type": "stream",
     "text": [
      "(1, 2)\n",
      "{'kw1': 3, 'kw2': 4}\n",
      "positional parameters:\n",
      "position arg 0 = 1\n",
      "position arg 1 = 2\n",
      "keyword parameters\n",
      "keyword kw1, value 3\n",
      "keyword kw2, value 4\n"
     ]
    }
   ],
   "source": [
    "def f(*args, **kwargs):\n",
    "    print(args)\n",
    "    print(kwargs)\n",
    "    print(\"positional parameters:\")\n",
    "    for i, arg in enumerate(args):\n",
    "        print(\"position arg {} = {}\".format(i, arg))\n",
    "    print(\"keyword parameters\")\n",
    "    for k, v in kwargs.items():\n",
    "        print(\"keyword {}, value {}\".format(k, v))\n",
    "\n",
    "f(1,2,kw1=3, kw2=4)"
   ]
  },
  {
   "cell_type": "code",
   "execution_count": 4,
   "metadata": {},
   "outputs": [
    {
     "name": "stdout",
     "output_type": "stream",
     "text": [
      "<class 'tuple'>\n",
      "<class 'dict'>\n",
      "Calling without expansion\n",
      "((1, 2), {'kw1': 3, 'kw2': 4})\n",
      "{}\n",
      "positional parameters:\n",
      "position arg 0 = (1, 2)\n",
      "position arg 1 = {'kw1': 3, 'kw2': 4}\n",
      "keyword parameters\n",
      "Calling with args expanded\n",
      "(1, 2)\n",
      "{'kw1': 3, 'kw2': 4}\n",
      "positional parameters:\n",
      "position arg 0 = 1\n",
      "position arg 1 = 2\n",
      "keyword parameters\n",
      "keyword kw1, value 3\n",
      "keyword kw2, value 4\n"
     ]
    }
   ],
   "source": [
    "def g(*args, **kwargs):\n",
    "    print(type(args))\n",
    "    print(type(kwargs))\n",
    "    print(\"Calling without expansion\")\n",
    "    f(args, kwargs)\n",
    "    print(\"Calling with args expanded\")\n",
    "    f(*args, **kwargs)\n",
    "\n",
    "g(1,2,kw1=3,kw2=4)"
   ]
  },
  {
   "cell_type": "code",
   "execution_count": 5,
   "metadata": {},
   "outputs": [
    {
     "name": "stdout",
     "output_type": "stream",
     "text": [
      "['appended', 1, 2, 3]\n"
     ]
    }
   ],
   "source": [
    "def h(*args):\n",
    "    return ['appended', *args]\n",
    "print(h(1,2,3))"
   ]
  },
  {
   "cell_type": "code",
   "execution_count": 1,
   "metadata": {},
   "outputs": [
    {
     "data": {
      "text/plain": [
       "9"
      ]
     },
     "execution_count": 1,
     "metadata": {},
     "output_type": "execute_result"
    }
   ],
   "source": [
    "def sum(a,b,c):\n",
    "    return a+b+c\n",
    "args = [2,3,4]\n",
    "sum(*args)"
   ]
  },
  {
   "cell_type": "code",
   "execution_count": null,
   "metadata": {
    "collapsed": true
   },
   "outputs": [],
   "source": []
  }
 ],
 "metadata": {
  "kernelspec": {
   "display_name": "Python 3",
   "language": "python",
   "name": "python3"
  },
  "language_info": {
   "codemirror_mode": {
    "name": "ipython",
    "version": 3
   },
   "file_extension": ".py",
   "mimetype": "text/x-python",
   "name": "python",
   "nbconvert_exporter": "python",
   "pygments_lexer": "ipython3",
   "version": "3.6.1"
  }
 },
 "nbformat": 4,
 "nbformat_minor": 2
}
