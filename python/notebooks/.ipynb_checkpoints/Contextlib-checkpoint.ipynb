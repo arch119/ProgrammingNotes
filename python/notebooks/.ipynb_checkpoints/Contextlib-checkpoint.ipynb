{
 "cells": [
  {
   "cell_type": "code",
   "execution_count": 4,
   "metadata": {
    "collapsed": true
   },
   "outputs": [],
   "source": [
    "from contextlib import contextmanager, closing\n",
    "from pprint import pprint as pp\n",
    "\n",
    "class A:\n",
    "    def __init__(self):\n",
    "        self.actions = []\n",
    "    \n",
    "    def open(self):\n",
    "        self.actions.append('open')\n",
    "    \n",
    "    def close(self):\n",
    "        self.actions.append('close')\n",
    "    \n",
    "    def do(self, action):\n",
    "        self.actions.append(action)\n",
    "        \n",
    "        \n",
    "@contextmanager\n",
    "def getA():\n",
    "    a = A()\n",
    "    yield a\n",
    "    pp(a.actions)\n",
    "    \n",
    "\n"
   ]
  },
  {
   "cell_type": "code",
   "execution_count": 8,
   "metadata": {
    "collapsed": false
   },
   "outputs": [
    {
     "name": "stdout",
     "output_type": "stream",
     "text": [
      "['open', 'open', 'work', 'close']\n"
     ]
    }
   ],
   "source": [
    "with getA() as a:\n",
    "    with closing(a):\n",
    "        a.open()\n",
    "        a.open()\n",
    "        a.do('work')"
   ]
  },
  {
   "cell_type": "code",
   "execution_count": 11,
   "metadata": {
    "collapsed": false
   },
   "outputs": [
    {
     "data": {
      "text/plain": [
       "'f:[hello world\\n]'"
      ]
     },
     "execution_count": 11,
     "metadata": {},
     "output_type": "execute_result"
    }
   ],
   "source": [
    "import io\n",
    "from contextlib import redirect_stdout\n",
    "\n",
    "f = io.StringIO()\n",
    "with redirect_stdout(f):\n",
    "    print('hello world')\n",
    "\n",
    "'f:[{}]'.format(f.getvalue())"
   ]
  },
  {
   "cell_type": "code",
   "execution_count": null,
   "metadata": {
    "collapsed": true
   },
   "outputs": [],
   "source": []
  }
 ],
 "metadata": {
  "kernelspec": {
   "display_name": "Python 3",
   "language": "python",
   "name": "python3"
  },
  "language_info": {
   "codemirror_mode": {
    "name": "ipython",
    "version": 3
   },
   "file_extension": ".py",
   "mimetype": "text/x-python",
   "name": "python",
   "nbconvert_exporter": "python",
   "pygments_lexer": "ipython3",
   "version": "3.6.0"
  }
 },
 "nbformat": 4,
 "nbformat_minor": 2
}
